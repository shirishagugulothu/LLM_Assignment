{
  "nbformat": 4,
  "nbformat_minor": 0,
  "metadata": {
    "colab": {
      "provenance": [],
      "authorship_tag": "ABX9TyMQZ1hazmQywUYMOHjMfjkV",
      "include_colab_link": true
    },
    "kernelspec": {
      "name": "python3",
      "display_name": "Python 3"
    },
    "language_info": {
      "name": "python"
    }
  },
  "cells": [
    {
      "cell_type": "markdown",
      "metadata": {
        "id": "view-in-github",
        "colab_type": "text"
      },
      "source": [
        "<a href=\"https://colab.research.google.com/github/shirishagugulothu/LLM_Assignment/blob/main/Untitled3.ipynb\" target=\"_parent\"><img src=\"https://colab.research.google.com/assets/colab-badge.svg\" alt=\"Open In Colab\"/></a>"
      ]
    },
    {
      "cell_type": "code",
      "execution_count": null,
      "metadata": {
        "id": "1XWTOHtYq-q1"
      },
      "outputs": [],
      "source": [
        "# Install necessary libraries: Huggingface Transformers, a CPU version of FAISS (for nearest neighbor search),\n",
        "# PyMuPDF for PDF file reading, and Sentence‑Transformers for embeddings.\n",
        "!pip install transformers faiss-cpu pymupdf sentence-transformers\n",
        "\n",
        "# Upload a PDF file through Colab's file-picker interface\n",
        "from google.colab import files\n",
        "uploaded = files.upload()  # Triggers file picker to upload PDF\n",
        "pdf_path = list(uploaded.keys())[0]  # Get the filename of the uploaded PDF\n",
        "\n",
        "# Use PyMuPDF (fitz) to open and read the PDF text\n",
        "import fitz\n",
        "def extract_text_from_pdf(pdf_path):\n",
        "    doc = fitz.open(pdf_path)  # Open the PDF document\n",
        "    text = \"\"\n",
        "    for page in doc:\n",
        "        text += page.get_text()  # Append text from each page\n",
        "    return text\n",
        "\n",
        "document_text = extract_text_from_pdf(pdf_path)  # Extract all text from the PDF\n",
        "\n",
        "# Split the full document text into smaller chunks\n",
        "import textwrap\n",
        "def chunk_text(text, chunk_size=300):\n",
        "    return textwrap.wrap(text, width=chunk_size)  # Wrap text into pieces of ~300 characters\n",
        "\n",
        "chunks = chunk_text(document_text)\n",
        "\n",
        "print(f\"Number of chunks: {len(chunks)}\")  # Show how many chunks were created\n",
        "print(\"sample_chunk:\", chunks[0])           # Print the first chunk as an example\n",
        "\n",
        "# Load a pre-trained sentence embedding model for semantic vectors\n",
        "from sentence_transformers import SentenceTransformer\n",
        "embed_model = SentenceTransformer(\"all-MiniLM-L6-v2\")  # Lightweight model\n",
        "\n",
        "# Generate embeddings (numerical vectors) for each text chunk\n",
        "embeddings = embed_model.encode(chunks)\n",
        "\n",
        "# Set up FAISS index for fast similarity search\n",
        "import faiss\n",
        "import numpy as np\n",
        "dim = embeddings[0].shape[0]          # Determine dimension size from embedding\n",
        "index = faiss.IndexFlatL2(dim)        # Use an index that computes L2 distance\n",
        "index.add(np.array(embeddings))       # Populate index with all chunk embeddings\n",
        "\n",
        "# Prepare a text-to-text generation pipeline using a small-sized T5 model\n",
        "from transformers import pipeline\n",
        "generator = pipeline(\"text2text-generation\", model=\"google/flan-t5-small\")\n",
        "\n",
        "# Define a function to retrieve relevant chunks and generate an answer\n",
        "def retrieve_and_answer(query, top_k=1):\n",
        "    query_embedding = embed_model.encode([query])  # Embed the user query\n",
        "    _, indices = index.search(                    # Search for nearest chunk(s)\n",
        "        np.array(query_embedding).astype(\"float32\"),\n",
        "        top_k\n",
        "    )\n",
        "    retrieved_texts = [chunks[i] for i in indices[0]]  # Extract matching chunks\n",
        "    context = \" \".join(retrieved_texts)                # Join chunks into one context string\n",
        "    prompt = f\"context: {context} \\n\\n Question: {query}\\nAnswer:\"  # Build prompt\n",
        "    result = generator(prompt, max_length=80)           # Generate answer (up to 80 tokens)\n",
        "    return result[0]['generated_text']                  # Return generated text\n",
        "\n",
        "# Example usage: ask about \"temperature tuning\" and print the answer\n",
        "Question = \"What is temperature tuning\"\n",
        "Answer = retrieve_and_answer(Question)\n",
        "print(\"Q:\", Question)\n",
        "print(\"A:\", Answer)\n"
      ]
    }
  ]
}